{
 "cells": [
  {
   "cell_type": "markdown",
   "id": "20474574-baed-4d52-9a6d-4be73b3a1fe8",
   "metadata": {},
   "source": [
    "## Notebook for creating AI for playing Skat"
   ]
  },
  {
   "cell_type": "markdown",
   "id": "6aff0869-9740-4207-9afa-d7ada1b831ca",
   "metadata": {},
   "source": [
    "#### Importing needed libraries"
   ]
  },
  {
   "cell_type": "code",
   "execution_count": 29,
   "id": "2ca72f03-9164-4548-a18d-f8b38abd0c74",
   "metadata": {},
   "outputs": [],
   "source": [
    "import gym\n",
    "from gym import spaces\n",
    "from pydealer import Card, Deck, SUITS, Stack, const\n",
    "import pygame_cards"
   ]
  },
  {
   "cell_type": "markdown",
   "id": "29e1a762-6307-4838-be5d-60805adad22e",
   "metadata": {},
   "source": [
    "## Creating Enviroment for SKAT card game \n",
    "\n",
    "Full rules can be found here: https://www.pagat.com/schafkopf/skat.html\n",
    "\n",
    "I'll explain brifly the rules:\n",
    "\n",
    "1. Deciding the solo player\n",
    "\n",
    "    a. solo player decides wheather to take the 2 left cards or not\n",
    "    \n",
    "    b. Solo players swaps discards 2 cards back into the skat (other players don't know what cards solo player discarded) - those cards also count for the solo player score\n",
    "    \n",
    "    c. Solo player anouces the type of the game played\n",
    "\n",
    "2. Untill all players have cards:\n",
    "    \n",
    "    a. Active player plays a card from the hand\n",
    "    \n",
    "    b. player on the left plays next card \n",
    "    \n",
    "    c. last player plays a card \n",
    "    \n",
    "    d. Player with the highest value takes the cards, the value is detrmined by colour and value of the cards\n",
    "\n",
    "3. Players sum up scores - solo player by his cards and comperes with the score of the rest\n",
    "4. Determination if the solo player has won or not\n"
   ]
  },
  {
   "cell_type": "code",
   "execution_count": 30,
   "id": "340f1923-5fe5-4df9-9c0d-d6c6d1e8f804",
   "metadata": {},
   "outputs": [
    {
     "ename": "AttributeError",
     "evalue": "module 'pygame_cards' has no attribute 'Deck'",
     "output_type": "error",
     "traceback": [
      "\u001b[1;31m---------------------------------------------------------------------------\u001b[0m",
      "\u001b[1;31mAttributeError\u001b[0m                            Traceback (most recent call last)",
      "Input \u001b[1;32mIn [30]\u001b[0m, in \u001b[0;36m<cell line: 13>\u001b[1;34m()\u001b[0m\n\u001b[0;32m     10\u001b[0m pygame\u001b[38;5;241m.\u001b[39mdisplay\u001b[38;5;241m.\u001b[39mset_caption(\u001b[38;5;124m\"\u001b[39m\u001b[38;5;124mBlackjack\u001b[39m\u001b[38;5;124m\"\u001b[39m)\n\u001b[0;32m     12\u001b[0m \u001b[38;5;66;03m# Create a deck of cards\u001b[39;00m\n\u001b[1;32m---> 13\u001b[0m deck \u001b[38;5;241m=\u001b[39m \u001b[43mpygame_cards\u001b[49m\u001b[38;5;241;43m.\u001b[39;49m\u001b[43mDeck\u001b[49m()\n\u001b[0;32m     14\u001b[0m deck\u001b[38;5;241m.\u001b[39mshuffle()\n\u001b[0;32m     16\u001b[0m \u001b[38;5;66;03m# Create the player's hand and dealer's hand\u001b[39;00m\n",
      "\u001b[1;31mAttributeError\u001b[0m: module 'pygame_cards' has no attribute 'Deck'"
     ]
    }
   ],
   "source": [
    "import pygame\n",
    "import pygame_cards\n",
    "\n",
    "# Initialize Pygame\n",
    "pygame.init()\n",
    "\n",
    "# Set up the game window\n",
    "window_width, window_height = 800, 600\n",
    "window = pygame.display.set_mode((window_width, window_height))\n",
    "pygame.display.set_caption(\"Blackjack\")\n",
    "\n",
    "# Create a deck of cards\n",
    "deck = pygame_cards.Deck()\n",
    "deck.shuffle()\n",
    "\n",
    "# Create the player's hand and dealer's hand\n",
    "player_hand = pygame_cards.Hand()\n",
    "dealer_hand = pygame_cards.Hand()\n",
    "\n",
    "# Deal initial cards\n",
    "player_hand.add_card(deck.deal())\n",
    "dealer_hand.add_card(deck.deal())\n",
    "player_hand.add_card(deck.deal())\n",
    "dealer_hand.add_card(deck.deal())\n",
    "\n",
    "# Game loop\n",
    "running = True\n",
    "while running:\n",
    "    for event in pygame.event.get():\n",
    "        if event.type == pygame.QUIT:\n",
    "            running = False\n",
    "\n",
    "    window.fill((0, 128, 0))  # Green background color\n",
    "\n",
    "    # Render player's hand\n",
    "    player_hand_pos = (window_width // 2 - player_hand.get_width() // 2, window_height - player_hand.get_height() - 20)\n",
    "    player_hand.render(window, player_hand_pos)\n",
    "\n",
    "    # Render dealer's hand\n",
    "    dealer_hand_pos = (window_width // 2 - dealer_hand.get_width() // 2, 20)\n",
    "    dealer_hand.render(window, dealer_hand_pos)\n",
    "\n",
    "    pygame.display.flip()\n",
    "\n",
    "# Quit Pygame\n",
    "pygame.quit()\n"
   ]
  },
  {
   "cell_type": "code",
   "execution_count": 18,
   "id": "ffe63b91-1bd1-49d5-9ab3-4e8afff6991d",
   "metadata": {},
   "outputs": [],
   "source": [
    "import pydealer\n",
    "def create_skat_deck():\n",
    "    deck = Deck()\n",
    "    stack = Stack()\n",
    "    # stack = []\n",
    "    lowest_card = Card('7','Diamonds') \n",
    "\n",
    "    for i in range(0,52):\n",
    "        card = deck.deal(1)\n",
    "        if card.cards[0] >= lowest_card:\n",
    "            stack.add(card.cards[0])\n",
    "        else:\n",
    "            pass\n",
    "    stack\n",
    "    # new_deck = pydealer.deck.Deck(stack)\n",
    "    return stack\n",
    "\n",
    "# deck_skat = create_skat_deck()\n",
    "# Add the cards to the de\n",
    "# print(len(deck_skat))\n",
    "# deck_skat = Deck(stack)\n",
    "# Print the deck\n",
    "# print(deck_skat)\n",
    "# print(stack)"
   ]
  },
  {
   "cell_type": "code",
   "execution_count": 19,
   "id": "f704113b-5f3f-42d1-8a31-05a0a330f485",
   "metadata": {},
   "outputs": [],
   "source": [
    "class Skat:\n",
    "    def __init__(self):\n",
    "        self.deck = create_skat_deck()\n",
    "        self.deck.shuffle()\n",
    "    def deal_player(self):\n",
    "        return self.deck.deal(10)\n",
    "    def deal_skat(self):\n",
    "        return self.deck.deal(2)\n",
    "    def rebulid(self):\n",
    "        self.deck = create_skat_deck()\n",
    "        self.deck.shuffle()\n",
    "        "
   ]
  },
  {
   "cell_type": "code",
   "execution_count": 20,
   "id": "c21aaad4-d8c1-4166-946a-a434a027af31",
   "metadata": {},
   "outputs": [],
   "source": [
    "class Player:\n",
    "    def __init__(self,skat):\n",
    "        self.hand = skat.deal_player()\n",
    "        self.score = 0\n",
    "\n",
    "        ### Pseudo code from here\n",
    "    def play_card(self,card):\n",
    "        if card in self.hand:\n",
    "            return deal(card)\n",
    "        else:\n",
    "            print(\"trying to play card that does not belong to player's hand\")\n",
    "            return\n",
    "        "
   ]
  },
  {
   "cell_type": "code",
   "execution_count": 21,
   "id": "f46d993e-32c5-4efc-97ff-b9af7561a431",
   "metadata": {},
   "outputs": [],
   "source": [
    "skat = Skat()"
   ]
  },
  {
   "cell_type": "code",
   "execution_count": 23,
   "id": "dd72e191-356a-4b3f-a85b-c531f33f1b23",
   "metadata": {},
   "outputs": [],
   "source": [
    "player_1 = Player(skat)"
   ]
  },
  {
   "cell_type": "code",
   "execution_count": 27,
   "id": "da0bcade-260a-4427-9679-20f91706de50",
   "metadata": {},
   "outputs": [
    {
     "data": {
      "text/plain": [
       "[Card(value='8', suit='Spades'),\n",
       " Card(value='King', suit='Clubs'),\n",
       " Card(value='10', suit='Clubs'),\n",
       " Card(value='Ace', suit='Clubs'),\n",
       " Card(value='Jack', suit='Hearts'),\n",
       " Card(value='10', suit='Spades'),\n",
       " Card(value='9', suit='Hearts'),\n",
       " Card(value='8', suit='Hearts'),\n",
       " Card(value='7', suit='Diamonds'),\n",
       " Card(value='Jack', suit='Spades')]"
      ]
     },
     "execution_count": 27,
     "metadata": {},
     "output_type": "execute_result"
    }
   ],
   "source": [
    "player_1.hand[:]"
   ]
  },
  {
   "cell_type": "code",
   "execution_count": null,
   "id": "fbc4b606-0b0d-43d4-a508-87d80f9d8d3a",
   "metadata": {},
   "outputs": [],
   "source": []
  },
  {
   "cell_type": "code",
   "execution_count": 5,
   "id": "9df9bca7-3c8d-4cb7-bffb-84b6ba15fb86",
   "metadata": {},
   "outputs": [],
   "source": []
  },
  {
   "cell_type": "code",
   "execution_count": null,
   "id": "7c6b5918-6a7a-4d9b-99c8-b38f9cabb57b",
   "metadata": {},
   "outputs": [
    {
     "ename": "AttributeError",
     "evalue": "'Stack' object has no attribute 'value'",
     "output_type": "error",
     "traceback": [
      "\u001b[1;31m---------------------------------------------------------------------------\u001b[0m",
      "\u001b[1;31mAttributeError\u001b[0m                            Traceback (most recent call last)",
      "Input \u001b[1;32mIn [6]\u001b[0m, in \u001b[0;36m<cell line: 1>\u001b[1;34m()\u001b[0m\n\u001b[1;32m----> 1\u001b[0m env \u001b[38;5;241m=\u001b[39m \u001b[43mBlackjackEnv\u001b[49m\u001b[43m(\u001b[49m\u001b[43m)\u001b[49m\n",
      "Input \u001b[1;32mIn [5]\u001b[0m, in \u001b[0;36mBlackjackEnv.__init__\u001b[1;34m(self)\u001b[0m\n\u001b[0;32m      3\u001b[0m \u001b[38;5;28mself\u001b[39m\u001b[38;5;241m.\u001b[39maction_space \u001b[38;5;241m=\u001b[39m spaces\u001b[38;5;241m.\u001b[39mDiscrete(\u001b[38;5;241m2\u001b[39m)\n\u001b[0;32m      4\u001b[0m \u001b[38;5;28mself\u001b[39m\u001b[38;5;241m.\u001b[39mobservation_space \u001b[38;5;241m=\u001b[39m spaces\u001b[38;5;241m.\u001b[39mTuple((\n\u001b[0;32m      5\u001b[0m     spaces\u001b[38;5;241m.\u001b[39mDiscrete(\u001b[38;5;241m10\u001b[39m),\n\u001b[0;32m      6\u001b[0m     spaces\u001b[38;5;241m.\u001b[39mDiscrete(\u001b[38;5;241m10\u001b[39m),\n\u001b[0;32m      7\u001b[0m     spaces\u001b[38;5;241m.\u001b[39mDiscrete(\u001b[38;5;241m2\u001b[39m)\n\u001b[0;32m      8\u001b[0m ))\n\u001b[1;32m----> 9\u001b[0m \u001b[38;5;28;43mself\u001b[39;49m\u001b[38;5;241;43m.\u001b[39;49m\u001b[43mreset\u001b[49m\u001b[43m(\u001b[49m\u001b[43m)\u001b[49m\n",
      "Input \u001b[1;32mIn [5]\u001b[0m, in \u001b[0;36mBlackjackEnv.reset\u001b[1;34m(self)\u001b[0m\n\u001b[0;32m     12\u001b[0m \u001b[38;5;28mself\u001b[39m\u001b[38;5;241m.\u001b[39mgame \u001b[38;5;241m=\u001b[39m Blackjack()\n\u001b[0;32m     13\u001b[0m \u001b[38;5;28mself\u001b[39m\u001b[38;5;241m.\u001b[39mgame\u001b[38;5;241m.\u001b[39mdeal_cards()\n\u001b[1;32m---> 14\u001b[0m \u001b[38;5;28mself\u001b[39m\u001b[38;5;241m.\u001b[39mplayer_hand_value \u001b[38;5;241m=\u001b[39m \u001b[38;5;28;43mself\u001b[39;49m\u001b[38;5;241;43m.\u001b[39;49m\u001b[43mgame\u001b[49m\u001b[38;5;241;43m.\u001b[39;49m\u001b[43mcalculate_hand_value\u001b[49m\u001b[43m(\u001b[49m\u001b[38;5;28;43mself\u001b[39;49m\u001b[38;5;241;43m.\u001b[39;49m\u001b[43mgame\u001b[49m\u001b[38;5;241;43m.\u001b[39;49m\u001b[43mplayer_hand\u001b[49m\u001b[43m)\u001b[49m\n\u001b[0;32m     15\u001b[0m \u001b[38;5;28mself\u001b[39m\u001b[38;5;241m.\u001b[39mdealer_card \u001b[38;5;241m=\u001b[39m \u001b[38;5;28mself\u001b[39m\u001b[38;5;241m.\u001b[39mgame\u001b[38;5;241m.\u001b[39mdealer_hand[\u001b[38;5;241m0\u001b[39m]\n\u001b[0;32m     16\u001b[0m \u001b[38;5;28;01mreturn\u001b[39;00m (\u001b[38;5;28mself\u001b[39m\u001b[38;5;241m.\u001b[39mplayer_hand_value, \u001b[38;5;28mself\u001b[39m\u001b[38;5;241m.\u001b[39mdealer_card\u001b[38;5;241m.\u001b[39mvalue, \u001b[38;5;28;01mFalse\u001b[39;00m)\n",
      "Input \u001b[1;32mIn [4]\u001b[0m, in \u001b[0;36mBlackjack.calculate_hand_value\u001b[1;34m(self, hand)\u001b[0m\n\u001b[0;32m     17\u001b[0m \u001b[38;5;28;01mdef\u001b[39;00m \u001b[38;5;21mcalculate_hand_value\u001b[39m(\u001b[38;5;28mself\u001b[39m, hand):\n\u001b[1;32m---> 18\u001b[0m     hand_value \u001b[38;5;241m=\u001b[39m \u001b[38;5;28;43msum\u001b[39;49m\u001b[43m(\u001b[49m\u001b[43mcard\u001b[49m\u001b[38;5;241;43m.\u001b[39;49m\u001b[43mvalue\u001b[49m\u001b[43m \u001b[49m\u001b[38;5;28;43;01mfor\u001b[39;49;00m\u001b[43m \u001b[49m\u001b[43mcard\u001b[49m\u001b[43m \u001b[49m\u001b[38;5;129;43;01min\u001b[39;49;00m\u001b[43m \u001b[49m\u001b[43mhand\u001b[49m\u001b[43m)\u001b[49m\n\u001b[0;32m     19\u001b[0m     num_aces \u001b[38;5;241m=\u001b[39m \u001b[38;5;28msum\u001b[39m(card\u001b[38;5;241m.\u001b[39mvalue \u001b[38;5;241m==\u001b[39m \u001b[38;5;241m11\u001b[39m \u001b[38;5;28;01mfor\u001b[39;00m card \u001b[38;5;129;01min\u001b[39;00m hand)\n\u001b[0;32m     21\u001b[0m     \u001b[38;5;28;01mwhile\u001b[39;00m hand_value \u001b[38;5;241m>\u001b[39m \u001b[38;5;241m21\u001b[39m \u001b[38;5;129;01mand\u001b[39;00m num_aces \u001b[38;5;241m>\u001b[39m \u001b[38;5;241m0\u001b[39m:\n",
      "Input \u001b[1;32mIn [4]\u001b[0m, in \u001b[0;36m<genexpr>\u001b[1;34m(.0)\u001b[0m\n\u001b[0;32m     17\u001b[0m \u001b[38;5;28;01mdef\u001b[39;00m \u001b[38;5;21mcalculate_hand_value\u001b[39m(\u001b[38;5;28mself\u001b[39m, hand):\n\u001b[1;32m---> 18\u001b[0m     hand_value \u001b[38;5;241m=\u001b[39m \u001b[38;5;28msum\u001b[39m(\u001b[43mcard\u001b[49m\u001b[38;5;241;43m.\u001b[39;49m\u001b[43mvalue\u001b[49m \u001b[38;5;28;01mfor\u001b[39;00m card \u001b[38;5;129;01min\u001b[39;00m hand)\n\u001b[0;32m     19\u001b[0m     num_aces \u001b[38;5;241m=\u001b[39m \u001b[38;5;28msum\u001b[39m(card\u001b[38;5;241m.\u001b[39mvalue \u001b[38;5;241m==\u001b[39m \u001b[38;5;241m11\u001b[39m \u001b[38;5;28;01mfor\u001b[39;00m card \u001b[38;5;129;01min\u001b[39;00m hand)\n\u001b[0;32m     21\u001b[0m     \u001b[38;5;28;01mwhile\u001b[39;00m hand_value \u001b[38;5;241m>\u001b[39m \u001b[38;5;241m21\u001b[39m \u001b[38;5;129;01mand\u001b[39;00m num_aces \u001b[38;5;241m>\u001b[39m \u001b[38;5;241m0\u001b[39m:\n",
      "\u001b[1;31mAttributeError\u001b[0m: 'Stack' object has no attribute 'value'"
     ]
    }
   ],
   "source": []
  },
  {
   "cell_type": "code",
   "execution_count": null,
   "id": "3599e502-046e-4009-8b6a-f9e4296d2651",
   "metadata": {},
   "outputs": [],
   "source": []
  }
 ],
 "metadata": {
  "kernelspec": {
   "display_name": "Python 3 (ipykernel)",
   "language": "python",
   "name": "python3"
  },
  "language_info": {
   "codemirror_mode": {
    "name": "ipython",
    "version": 3
   },
   "file_extension": ".py",
   "mimetype": "text/x-python",
   "name": "python",
   "nbconvert_exporter": "python",
   "pygments_lexer": "ipython3",
   "version": "3.9.10"
  }
 },
 "nbformat": 4,
 "nbformat_minor": 5
}
