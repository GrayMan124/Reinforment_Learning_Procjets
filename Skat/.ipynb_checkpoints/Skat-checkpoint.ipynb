{
 "cells": [
  {
   "cell_type": "markdown",
   "id": "20474574-baed-4d52-9a6d-4be73b3a1fe8",
   "metadata": {},
   "source": [
    "## Notebook for creating AI for playing Skat"
   ]
  },
  {
   "cell_type": "markdown",
   "id": "6aff0869-9740-4207-9afa-d7ada1b831ca",
   "metadata": {},
   "source": [
    "#### Importing needed libraries"
   ]
  },
  {
   "cell_type": "code",
   "execution_count": 3,
   "id": "2ca72f03-9164-4548-a18d-f8b38abd0c74",
   "metadata": {},
   "outputs": [],
   "source": [
    "import gym\n",
    "from gym import spaces\n",
    "from pydealer import Card, Deck, SUITS, Stack, const"
   ]
  },
  {
   "cell_type": "markdown",
   "id": "29e1a762-6307-4838-be5d-60805adad22e",
   "metadata": {},
   "source": [
    "## Creating Enviroment for SKAT card game \n",
    "\n",
    "Full rules can be found here: https://www.pagat.com/schafkopf/skat.html\n",
    "\n",
    "I'll explain brifly the rules:\n",
    "\n",
    "1. Deciding the solo player\n",
    "\n",
    "    a. solo player decides wheather to take the 2 left cards or not\n",
    "    \n",
    "    b. Solo players swaps discards 2 cards back into the skat (other players don't know what cards solo player discarded) - those cards also count for the solo player score\n",
    "    \n",
    "    c. Solo player anouces the type of the game played\n",
    "\n",
    "2. Untill all players have cards:\n",
    "    \n",
    "    a. Active player plays a card from the hand\n",
    "    \n",
    "    b. player on the left plays next card \n",
    "    \n",
    "    c. last player plays a card \n",
    "    \n",
    "    d. Player with the highest value takes the cards, the value is detrmined by colour and value of the cards\n",
    "\n",
    "3. Players sum up scores - solo player by his cards and comperes with the score of the rest\n",
    "4. Determination if the solo player has won or not\n"
   ]
  },
  {
   "cell_type": "code",
   "execution_count": 17,
   "id": "ffe63b91-1bd1-49d5-9ab3-4e8afff6991d",
   "metadata": {},
   "outputs": [
    {
     "name": "stdout",
     "output_type": "stream",
     "text": [
      "Ace of Spades\n",
      "Ace of Hearts\n",
      "Ace of Clubs\n",
      "Ace of Diamonds\n",
      "King of Spades\n",
      "King of Hearts\n",
      "King of Clubs\n",
      "King of Diamonds\n",
      "Queen of Spades\n",
      "Queen of Hearts\n",
      "Queen of Clubs\n",
      "Queen of Diamonds\n",
      "Jack of Spades\n",
      "Jack of Hearts\n",
      "Jack of Clubs\n",
      "Jack of Diamonds\n",
      "10 of Spades\n",
      "10 of Hearts\n",
      "10 of Clubs\n",
      "10 of Diamonds\n",
      "9 of Spades\n",
      "9 of Hearts\n",
      "9 of Clubs\n",
      "9 of Diamonds\n",
      "8 of Spades\n",
      "8 of Hearts\n",
      "8 of Clubs\n",
      "8 of Diamonds\n",
      "7 of Spades\n",
      "7 of Hearts\n",
      "7 of Clubs\n",
      "7 of Diamonds\n"
     ]
    }
   ],
   "source": [
    "import pydealer\n",
    "def create_skat_deck():\n",
    "    deck = Deck()\n",
    "    stack = Stack()\n",
    "    # stack = []\n",
    "\n",
    "    for i in range(0,52):\n",
    "        card = deck.deal(1)\n",
    "        if card.cards[0] >= lowest_card:\n",
    "            stack.add(card.cards[0])\n",
    "        else:\n",
    "            pass\n",
    "    stack\n",
    "    # new_deck = pydealer.deck.Deck(stack)\n",
    "    return stack\n",
    "\n",
    "deck_skat = create_skat_deck()\n",
    "# Add the cards to the de\n",
    "# deck_skat = Deck(stack)\n",
    "# Print the deck\n",
    "print(deck_skat)\n",
    "# print(len(stack))\n",
    "# print(stack)"
   ]
  },
  {
   "cell_type": "code",
   "execution_count": 18,
   "id": "f704113b-5f3f-42d1-8a31-05a0a330f485",
   "metadata": {},
   "outputs": [],
   "source": [
    "class Skat:\n",
    "    def __init__(self):\n",
    "        self.deck = create_skat_deck()\n",
    "        self.deck.shuffle()\n",
    "    def deal_player(self):\n",
    "        return self.deck.deal(10)\n",
    "    def deal_skat(self):\n",
    "        return self.deck.deal(2)\n",
    "    def rebulid(self):\n",
    "        self.deck = create_skat_deck()\n",
    "        self.deck.shuffle()\n",
    "        "
   ]
  },
  {
   "cell_type": "code",
   "execution_count": 19,
   "id": "c21aaad4-d8c1-4166-946a-a434a027af31",
   "metadata": {},
   "outputs": [],
   "source": [
    "class Player:\n",
    "    def __init__(self,skat):\n",
    "        self.hand = skat.deal_player()\n",
    "        self.score = 0\n",
    "\n",
    "        ### Pseudo code from here\n",
    "    def play_card(self,card):\n",
    "        if card in self.hand:\n",
    "            return deal(card)\n",
    "        else:\n",
    "            print(\"trying to play card that does not belong to player's hand\")\n",
    "            return\n",
    "        "
   ]
  },
  {
   "cell_type": "code",
   "execution_count": 7,
   "id": "f46d993e-32c5-4efc-97ff-b9af7561a431",
   "metadata": {},
   "outputs": [],
   "source": [
    "class Blackjack:\n",
    "    def __init__(self):\n",
    "        self.deck = Deck()\n",
    "        self.deck.shuffle()\n",
    "        self.player_hand = []\n",
    "        self.dealer_hand = []\n",
    "\n",
    "    def deal_cards(self):\n",
    "        self.player_hand = [self.deck.deal() for _ in range(2)]\n",
    "        self.dealer_hand = [self.deck.deal() for _ in range(2)]\n",
    "\n",
    "    def hit(self, hand):\n",
    "        hand.append(self.deck.deal())\n",
    "\n",
    "    def calculate_hand_value(self, hand):\n",
    "        hand_value = sum(card.value for card in hand)\n",
    "        num_aces = sum(card.value == 11 for card in hand)\n",
    "\n",
    "        while hand_value > 21 and num_aces > 0:\n",
    "            hand_value -= 10\n",
    "            num_aces -= 1\n",
    "\n",
    "        return hand_value\n",
    "\n",
    "    def player_turn(self):\n",
    "        while True:\n",
    "            hand_value = self.calculate_hand_value(self.player_hand)\n",
    "            print(\"Player's hand:\", self.player_hand)\n",
    "            print(\"Player's hand value:\", hand_value)\n",
    "\n",
    "            if hand_value > 21:\n",
    "                print(\"Player busts!\")\n",
    "                return -1\n",
    "\n",
    "            action = input(\"Do you want to hit or stand? \")\n",
    "            if action == \"hit\":\n",
    "                self.hit(self.player_hand)\n",
    "            else:\n",
    "                return hand_value\n",
    "\n",
    "    def dealer_turn(self):\n",
    "        while True:\n",
    "            hand_value = self.calculate_hand_value(self.dealer_hand)\n",
    "            print(\"Dealer's hand:\", self.dealer_hand)\n",
    "            print(\"Dealer's hand value:\", hand_value)\n",
    "\n",
    "            if hand_value >= 17:\n",
    "                return hand_value\n",
    "\n",
    "            self.hit(self.dealer_hand)\n",
    "\n",
    "    def play(self):\n",
    "        self.deal_cards()\n",
    "        player_hand_value = self.player_turn()\n",
    "\n",
    "        if player_hand_value == -1:\n",
    "            return -1\n",
    "\n",
    "        dealer_hand_value = self.dealer_turn()\n",
    "\n",
    "        if dealer_hand_value == -1 or dealer_hand_value > player_hand_value:\n",
    "            return 0\n",
    "        elif dealer_hand_value < player_hand_value:\n",
    "            return 1\n",
    "        else:\n",
    "            return -1\n"
   ]
  },
  {
   "cell_type": "code",
   "execution_count": 10,
   "id": "083844cc-f8d1-41cf-a0eb-76a6cec3605f",
   "metadata": {},
   "outputs": [],
   "source": [
    "deck= Deck()"
   ]
  },
  {
   "cell_type": "code",
   "execution_count": 11,
   "id": "e8272a30-4bad-47c5-9061-5b41a1b95803",
   "metadata": {},
   "outputs": [
    {
     "ename": "AttributeError",
     "evalue": "'Deck' object has no attribute 'is_empty'",
     "output_type": "error",
     "traceback": [
      "\u001b[1;31m---------------------------------------------------------------------------\u001b[0m",
      "\u001b[1;31mAttributeError\u001b[0m                            Traceback (most recent call last)",
      "Input \u001b[1;32mIn [11]\u001b[0m, in \u001b[0;36m<cell line: 1>\u001b[1;34m()\u001b[0m\n\u001b[1;32m----> 1\u001b[0m \u001b[43mdeck\u001b[49m\u001b[38;5;241;43m.\u001b[39;49m\u001b[43mis_empty\u001b[49m()\n",
      "\u001b[1;31mAttributeError\u001b[0m: 'Deck' object has no attribute 'is_empty'"
     ]
    }
   ],
   "source": [
    "deck.is_empty()"
   ]
  },
  {
   "cell_type": "code",
   "execution_count": 12,
   "id": "a8225c8b-28ba-4d59-b112-1654f336ecb8",
   "metadata": {},
   "outputs": [
    {
     "data": {
      "text/plain": [
       "52"
      ]
     },
     "execution_count": 12,
     "metadata": {},
     "output_type": "execute_result"
    }
   ],
   "source": [
    "len(deck)"
   ]
  },
  {
   "cell_type": "code",
   "execution_count": 17,
   "id": "dd72e191-356a-4b3f-a85b-c531f33f1b23",
   "metadata": {},
   "outputs": [
    {
     "name": "stdout",
     "output_type": "stream",
     "text": [
      "11 of Spades\n",
      "12 of Spades\n",
      "9 of Clubs\n",
      "13 of Hearts\n",
      "13 of Spades\n",
      "9 of Spades\n",
      "10 of Clubs\n",
      "7 of Hearts\n",
      "8 of Spades\n",
      "10 of Spades\n",
      "13 of Diamonds\n",
      "11 of Clubs\n",
      "10 of Diamonds\n",
      "8 of Diamonds\n",
      "8 of Clubs\n",
      "7 of Spades\n",
      "11 of Hearts\n",
      "12 of Clubs\n",
      "12 of Hearts\n",
      "9 of Hearts\n",
      "7 of Diamonds\n",
      "12 of Diamonds\n",
      "9 of Diamonds\n",
      "13 of Clubs\n",
      "10 of Hearts\n",
      "8 of Hearts\n",
      "7 of Clubs\n",
      "11 of Diamonds\n",
      "28\n"
     ]
    }
   ],
   "source": []
  },
  {
   "cell_type": "code",
   "execution_count": null,
   "id": "da0bcade-260a-4427-9679-20f91706de50",
   "metadata": {},
   "outputs": [],
   "source": []
  },
  {
   "cell_type": "code",
   "execution_count": 8,
   "id": "fbc4b606-0b0d-43d4-a508-87d80f9d8d3a",
   "metadata": {},
   "outputs": [
    {
     "ename": "AttributeError",
     "evalue": "'Stack' object has no attribute 'value'",
     "output_type": "error",
     "traceback": [
      "\u001b[1;31m---------------------------------------------------------------------------\u001b[0m",
      "\u001b[1;31mAttributeError\u001b[0m                            Traceback (most recent call last)",
      "Input \u001b[1;32mIn [8]\u001b[0m, in \u001b[0;36m<cell line: 2>\u001b[1;34m()\u001b[0m\n\u001b[0;32m      1\u001b[0m game \u001b[38;5;241m=\u001b[39m Blackjack()\n\u001b[1;32m----> 2\u001b[0m result \u001b[38;5;241m=\u001b[39m \u001b[43mgame\u001b[49m\u001b[38;5;241;43m.\u001b[39;49m\u001b[43mplay\u001b[49m\u001b[43m(\u001b[49m\u001b[43m)\u001b[49m\n\u001b[0;32m      4\u001b[0m \u001b[38;5;28;01mif\u001b[39;00m result \u001b[38;5;241m==\u001b[39m \u001b[38;5;241m-\u001b[39m\u001b[38;5;241m1\u001b[39m:\n\u001b[0;32m      5\u001b[0m     \u001b[38;5;28mprint\u001b[39m(\u001b[38;5;124m\"\u001b[39m\u001b[38;5;124mIt\u001b[39m\u001b[38;5;124m'\u001b[39m\u001b[38;5;124ms a tie!\u001b[39m\u001b[38;5;124m\"\u001b[39m)\n",
      "Input \u001b[1;32mIn [7]\u001b[0m, in \u001b[0;36mBlackjack.play\u001b[1;34m(self)\u001b[0m\n\u001b[0;32m     52\u001b[0m \u001b[38;5;28;01mdef\u001b[39;00m \u001b[38;5;21mplay\u001b[39m(\u001b[38;5;28mself\u001b[39m):\n\u001b[0;32m     53\u001b[0m     \u001b[38;5;28mself\u001b[39m\u001b[38;5;241m.\u001b[39mdeal_cards()\n\u001b[1;32m---> 54\u001b[0m     player_hand_value \u001b[38;5;241m=\u001b[39m \u001b[38;5;28;43mself\u001b[39;49m\u001b[38;5;241;43m.\u001b[39;49m\u001b[43mplayer_turn\u001b[49m\u001b[43m(\u001b[49m\u001b[43m)\u001b[49m\n\u001b[0;32m     56\u001b[0m     \u001b[38;5;28;01mif\u001b[39;00m player_hand_value \u001b[38;5;241m==\u001b[39m \u001b[38;5;241m-\u001b[39m\u001b[38;5;241m1\u001b[39m:\n\u001b[0;32m     57\u001b[0m         \u001b[38;5;28;01mreturn\u001b[39;00m \u001b[38;5;241m-\u001b[39m\u001b[38;5;241m1\u001b[39m\n",
      "Input \u001b[1;32mIn [7]\u001b[0m, in \u001b[0;36mBlackjack.player_turn\u001b[1;34m(self)\u001b[0m\n\u001b[0;32m     25\u001b[0m \u001b[38;5;28;01mdef\u001b[39;00m \u001b[38;5;21mplayer_turn\u001b[39m(\u001b[38;5;28mself\u001b[39m):\n\u001b[0;32m     26\u001b[0m     \u001b[38;5;28;01mwhile\u001b[39;00m \u001b[38;5;28;01mTrue\u001b[39;00m:\n\u001b[1;32m---> 27\u001b[0m         hand_value \u001b[38;5;241m=\u001b[39m \u001b[38;5;28;43mself\u001b[39;49m\u001b[38;5;241;43m.\u001b[39;49m\u001b[43mcalculate_hand_value\u001b[49m\u001b[43m(\u001b[49m\u001b[38;5;28;43mself\u001b[39;49m\u001b[38;5;241;43m.\u001b[39;49m\u001b[43mplayer_hand\u001b[49m\u001b[43m)\u001b[49m\n\u001b[0;32m     28\u001b[0m         \u001b[38;5;28mprint\u001b[39m(\u001b[38;5;124m\"\u001b[39m\u001b[38;5;124mPlayer\u001b[39m\u001b[38;5;124m'\u001b[39m\u001b[38;5;124ms hand:\u001b[39m\u001b[38;5;124m\"\u001b[39m, \u001b[38;5;28mself\u001b[39m\u001b[38;5;241m.\u001b[39mplayer_hand)\n\u001b[0;32m     29\u001b[0m         \u001b[38;5;28mprint\u001b[39m(\u001b[38;5;124m\"\u001b[39m\u001b[38;5;124mPlayer\u001b[39m\u001b[38;5;124m'\u001b[39m\u001b[38;5;124ms hand value:\u001b[39m\u001b[38;5;124m\"\u001b[39m, hand_value)\n",
      "Input \u001b[1;32mIn [7]\u001b[0m, in \u001b[0;36mBlackjack.calculate_hand_value\u001b[1;34m(self, hand)\u001b[0m\n\u001b[0;32m     15\u001b[0m \u001b[38;5;28;01mdef\u001b[39;00m \u001b[38;5;21mcalculate_hand_value\u001b[39m(\u001b[38;5;28mself\u001b[39m, hand):\n\u001b[1;32m---> 16\u001b[0m     hand_value \u001b[38;5;241m=\u001b[39m \u001b[38;5;28;43msum\u001b[39;49m\u001b[43m(\u001b[49m\u001b[43mcard\u001b[49m\u001b[38;5;241;43m.\u001b[39;49m\u001b[43mvalue\u001b[49m\u001b[43m \u001b[49m\u001b[38;5;28;43;01mfor\u001b[39;49;00m\u001b[43m \u001b[49m\u001b[43mcard\u001b[49m\u001b[43m \u001b[49m\u001b[38;5;129;43;01min\u001b[39;49;00m\u001b[43m \u001b[49m\u001b[43mhand\u001b[49m\u001b[43m)\u001b[49m\n\u001b[0;32m     17\u001b[0m     num_aces \u001b[38;5;241m=\u001b[39m \u001b[38;5;28msum\u001b[39m(card\u001b[38;5;241m.\u001b[39mvalue \u001b[38;5;241m==\u001b[39m \u001b[38;5;241m11\u001b[39m \u001b[38;5;28;01mfor\u001b[39;00m card \u001b[38;5;129;01min\u001b[39;00m hand)\n\u001b[0;32m     19\u001b[0m     \u001b[38;5;28;01mwhile\u001b[39;00m hand_value \u001b[38;5;241m>\u001b[39m \u001b[38;5;241m21\u001b[39m \u001b[38;5;129;01mand\u001b[39;00m num_aces \u001b[38;5;241m>\u001b[39m \u001b[38;5;241m0\u001b[39m:\n",
      "Input \u001b[1;32mIn [7]\u001b[0m, in \u001b[0;36m<genexpr>\u001b[1;34m(.0)\u001b[0m\n\u001b[0;32m     15\u001b[0m \u001b[38;5;28;01mdef\u001b[39;00m \u001b[38;5;21mcalculate_hand_value\u001b[39m(\u001b[38;5;28mself\u001b[39m, hand):\n\u001b[1;32m---> 16\u001b[0m     hand_value \u001b[38;5;241m=\u001b[39m \u001b[38;5;28msum\u001b[39m(\u001b[43mcard\u001b[49m\u001b[38;5;241;43m.\u001b[39;49m\u001b[43mvalue\u001b[49m \u001b[38;5;28;01mfor\u001b[39;00m card \u001b[38;5;129;01min\u001b[39;00m hand)\n\u001b[0;32m     17\u001b[0m     num_aces \u001b[38;5;241m=\u001b[39m \u001b[38;5;28msum\u001b[39m(card\u001b[38;5;241m.\u001b[39mvalue \u001b[38;5;241m==\u001b[39m \u001b[38;5;241m11\u001b[39m \u001b[38;5;28;01mfor\u001b[39;00m card \u001b[38;5;129;01min\u001b[39;00m hand)\n\u001b[0;32m     19\u001b[0m     \u001b[38;5;28;01mwhile\u001b[39;00m hand_value \u001b[38;5;241m>\u001b[39m \u001b[38;5;241m21\u001b[39m \u001b[38;5;129;01mand\u001b[39;00m num_aces \u001b[38;5;241m>\u001b[39m \u001b[38;5;241m0\u001b[39m:\n",
      "\u001b[1;31mAttributeError\u001b[0m: 'Stack' object has no attribute 'value'"
     ]
    }
   ],
   "source": [
    "game = Blackjack()\n",
    "result = game.play()\n",
    "\n",
    "if result == -1:\n",
    "    print(\"It's a tie!\")\n",
    "elif result == 0:\n",
    "    print(\"Dealer wins!\")\n",
    "else:\n",
    "    print(\"Player wins!\")\n"
   ]
  },
  {
   "cell_type": "code",
   "execution_count": 5,
   "id": "9df9bca7-3c8d-4cb7-bffb-84b6ba15fb86",
   "metadata": {},
   "outputs": [],
   "source": [
    "class BlackjackEnv(gym.Env):\n",
    "    def __init__(self):\n",
    "        self.action_space = spaces.Discrete(2)\n",
    "        self.observation_space = spaces.Tuple((\n",
    "            spaces.Discrete(10),\n",
    "            spaces.Discrete(10),\n",
    "            spaces.Discrete(2)\n",
    "        ))\n",
    "        self.reset()\n",
    "\n",
    "    def reset(self):\n",
    "        self.game = Blackjack()\n",
    "        self.game.deal_cards()\n",
    "        self.player_hand_value = self.game.calculate_hand_value(self.game.player_hand)\n",
    "        self.dealer_card = self.game.dealer_hand[0]\n",
    "        return (self.player_hand_value, self.dealer_card.value, False)\n",
    "\n",
    "    def step(self, action):\n",
    "        if action == 1:\n",
    "            self.game.hit(self.game.player_hand)\n",
    "            self.player_hand_value = self.game.calculate_hand_value(self.game.player_hand)\n",
    "            if self.player_hand_value > 21:\n",
    "                reward = -1\n",
    "                done = True\n",
    "            else:\n",
    "                reward = 0\n",
    "                done = False\n",
    "        else:\n",
    "            while self.game.calculate_hand_value(self.game.dealer_hand) < 17:\n",
    "                self.game.hit(self.game.dealer_hand)\n",
    "            dealer_hand_value = self.game.calculate_hand_value(self.game.dealer_hand)\n",
    "            if dealer_hand_value > 21 or dealer_hand_value < self.player_hand_value:\n",
    "                reward = 1\n",
    "            elif dealer_hand_value == self.player_hand_value:\n",
    "                reward = 0\n",
    "            else:\n",
    "                reward = -1\n",
    "            done = True\n",
    "\n",
    "        return (self.player_hand_value, self.dealer_card.value, done), reward, done, {}\n",
    "\n",
    "    def render(self, mode=\"human\"):\n",
    "        print(\"Player's hand:\", self.game.player_hand)\n",
    "        print(\"Player's hand value:\", self.player_hand_value)\n",
    "        print(\"Dealer's hand:\", self.game.dealer_hand)\n",
    "\n"
   ]
  },
  {
   "cell_type": "code",
   "execution_count": 6,
   "id": "7c6b5918-6a7a-4d9b-99c8-b38f9cabb57b",
   "metadata": {},
   "outputs": [
    {
     "ename": "AttributeError",
     "evalue": "'Stack' object has no attribute 'value'",
     "output_type": "error",
     "traceback": [
      "\u001b[1;31m---------------------------------------------------------------------------\u001b[0m",
      "\u001b[1;31mAttributeError\u001b[0m                            Traceback (most recent call last)",
      "Input \u001b[1;32mIn [6]\u001b[0m, in \u001b[0;36m<cell line: 1>\u001b[1;34m()\u001b[0m\n\u001b[1;32m----> 1\u001b[0m env \u001b[38;5;241m=\u001b[39m \u001b[43mBlackjackEnv\u001b[49m\u001b[43m(\u001b[49m\u001b[43m)\u001b[49m\n",
      "Input \u001b[1;32mIn [5]\u001b[0m, in \u001b[0;36mBlackjackEnv.__init__\u001b[1;34m(self)\u001b[0m\n\u001b[0;32m      3\u001b[0m \u001b[38;5;28mself\u001b[39m\u001b[38;5;241m.\u001b[39maction_space \u001b[38;5;241m=\u001b[39m spaces\u001b[38;5;241m.\u001b[39mDiscrete(\u001b[38;5;241m2\u001b[39m)\n\u001b[0;32m      4\u001b[0m \u001b[38;5;28mself\u001b[39m\u001b[38;5;241m.\u001b[39mobservation_space \u001b[38;5;241m=\u001b[39m spaces\u001b[38;5;241m.\u001b[39mTuple((\n\u001b[0;32m      5\u001b[0m     spaces\u001b[38;5;241m.\u001b[39mDiscrete(\u001b[38;5;241m10\u001b[39m),\n\u001b[0;32m      6\u001b[0m     spaces\u001b[38;5;241m.\u001b[39mDiscrete(\u001b[38;5;241m10\u001b[39m),\n\u001b[0;32m      7\u001b[0m     spaces\u001b[38;5;241m.\u001b[39mDiscrete(\u001b[38;5;241m2\u001b[39m)\n\u001b[0;32m      8\u001b[0m ))\n\u001b[1;32m----> 9\u001b[0m \u001b[38;5;28;43mself\u001b[39;49m\u001b[38;5;241;43m.\u001b[39;49m\u001b[43mreset\u001b[49m\u001b[43m(\u001b[49m\u001b[43m)\u001b[49m\n",
      "Input \u001b[1;32mIn [5]\u001b[0m, in \u001b[0;36mBlackjackEnv.reset\u001b[1;34m(self)\u001b[0m\n\u001b[0;32m     12\u001b[0m \u001b[38;5;28mself\u001b[39m\u001b[38;5;241m.\u001b[39mgame \u001b[38;5;241m=\u001b[39m Blackjack()\n\u001b[0;32m     13\u001b[0m \u001b[38;5;28mself\u001b[39m\u001b[38;5;241m.\u001b[39mgame\u001b[38;5;241m.\u001b[39mdeal_cards()\n\u001b[1;32m---> 14\u001b[0m \u001b[38;5;28mself\u001b[39m\u001b[38;5;241m.\u001b[39mplayer_hand_value \u001b[38;5;241m=\u001b[39m \u001b[38;5;28;43mself\u001b[39;49m\u001b[38;5;241;43m.\u001b[39;49m\u001b[43mgame\u001b[49m\u001b[38;5;241;43m.\u001b[39;49m\u001b[43mcalculate_hand_value\u001b[49m\u001b[43m(\u001b[49m\u001b[38;5;28;43mself\u001b[39;49m\u001b[38;5;241;43m.\u001b[39;49m\u001b[43mgame\u001b[49m\u001b[38;5;241;43m.\u001b[39;49m\u001b[43mplayer_hand\u001b[49m\u001b[43m)\u001b[49m\n\u001b[0;32m     15\u001b[0m \u001b[38;5;28mself\u001b[39m\u001b[38;5;241m.\u001b[39mdealer_card \u001b[38;5;241m=\u001b[39m \u001b[38;5;28mself\u001b[39m\u001b[38;5;241m.\u001b[39mgame\u001b[38;5;241m.\u001b[39mdealer_hand[\u001b[38;5;241m0\u001b[39m]\n\u001b[0;32m     16\u001b[0m \u001b[38;5;28;01mreturn\u001b[39;00m (\u001b[38;5;28mself\u001b[39m\u001b[38;5;241m.\u001b[39mplayer_hand_value, \u001b[38;5;28mself\u001b[39m\u001b[38;5;241m.\u001b[39mdealer_card\u001b[38;5;241m.\u001b[39mvalue, \u001b[38;5;28;01mFalse\u001b[39;00m)\n",
      "Input \u001b[1;32mIn [4]\u001b[0m, in \u001b[0;36mBlackjack.calculate_hand_value\u001b[1;34m(self, hand)\u001b[0m\n\u001b[0;32m     17\u001b[0m \u001b[38;5;28;01mdef\u001b[39;00m \u001b[38;5;21mcalculate_hand_value\u001b[39m(\u001b[38;5;28mself\u001b[39m, hand):\n\u001b[1;32m---> 18\u001b[0m     hand_value \u001b[38;5;241m=\u001b[39m \u001b[38;5;28;43msum\u001b[39;49m\u001b[43m(\u001b[49m\u001b[43mcard\u001b[49m\u001b[38;5;241;43m.\u001b[39;49m\u001b[43mvalue\u001b[49m\u001b[43m \u001b[49m\u001b[38;5;28;43;01mfor\u001b[39;49;00m\u001b[43m \u001b[49m\u001b[43mcard\u001b[49m\u001b[43m \u001b[49m\u001b[38;5;129;43;01min\u001b[39;49;00m\u001b[43m \u001b[49m\u001b[43mhand\u001b[49m\u001b[43m)\u001b[49m\n\u001b[0;32m     19\u001b[0m     num_aces \u001b[38;5;241m=\u001b[39m \u001b[38;5;28msum\u001b[39m(card\u001b[38;5;241m.\u001b[39mvalue \u001b[38;5;241m==\u001b[39m \u001b[38;5;241m11\u001b[39m \u001b[38;5;28;01mfor\u001b[39;00m card \u001b[38;5;129;01min\u001b[39;00m hand)\n\u001b[0;32m     21\u001b[0m     \u001b[38;5;28;01mwhile\u001b[39;00m hand_value \u001b[38;5;241m>\u001b[39m \u001b[38;5;241m21\u001b[39m \u001b[38;5;129;01mand\u001b[39;00m num_aces \u001b[38;5;241m>\u001b[39m \u001b[38;5;241m0\u001b[39m:\n",
      "Input \u001b[1;32mIn [4]\u001b[0m, in \u001b[0;36m<genexpr>\u001b[1;34m(.0)\u001b[0m\n\u001b[0;32m     17\u001b[0m \u001b[38;5;28;01mdef\u001b[39;00m \u001b[38;5;21mcalculate_hand_value\u001b[39m(\u001b[38;5;28mself\u001b[39m, hand):\n\u001b[1;32m---> 18\u001b[0m     hand_value \u001b[38;5;241m=\u001b[39m \u001b[38;5;28msum\u001b[39m(\u001b[43mcard\u001b[49m\u001b[38;5;241;43m.\u001b[39;49m\u001b[43mvalue\u001b[49m \u001b[38;5;28;01mfor\u001b[39;00m card \u001b[38;5;129;01min\u001b[39;00m hand)\n\u001b[0;32m     19\u001b[0m     num_aces \u001b[38;5;241m=\u001b[39m \u001b[38;5;28msum\u001b[39m(card\u001b[38;5;241m.\u001b[39mvalue \u001b[38;5;241m==\u001b[39m \u001b[38;5;241m11\u001b[39m \u001b[38;5;28;01mfor\u001b[39;00m card \u001b[38;5;129;01min\u001b[39;00m hand)\n\u001b[0;32m     21\u001b[0m     \u001b[38;5;28;01mwhile\u001b[39;00m hand_value \u001b[38;5;241m>\u001b[39m \u001b[38;5;241m21\u001b[39m \u001b[38;5;129;01mand\u001b[39;00m num_aces \u001b[38;5;241m>\u001b[39m \u001b[38;5;241m0\u001b[39m:\n",
      "\u001b[1;31mAttributeError\u001b[0m: 'Stack' object has no attribute 'value'"
     ]
    }
   ],
   "source": [
    "env = BlackjackEnv()"
   ]
  },
  {
   "cell_type": "code",
   "execution_count": null,
   "id": "3599e502-046e-4009-8b6a-f9e4296d2651",
   "metadata": {},
   "outputs": [],
   "source": [
    "state = env.reset()\n",
    "done = False\n",
    "score = 0 \n",
    "while not done:\n",
    "    env.render()\n",
    "    action = env.action_space.sample()\n",
    "    n_state, reward, done, info = env.step(action)\n",
    "    score+=reward\n",
    "print('Score:{}'.format(score))\n",
    "env.close()"
   ]
  }
 ],
 "metadata": {
  "kernelspec": {
   "display_name": "Python 3 (ipykernel)",
   "language": "python",
   "name": "python3"
  },
  "language_info": {
   "codemirror_mode": {
    "name": "ipython",
    "version": 3
   },
   "file_extension": ".py",
   "mimetype": "text/x-python",
   "name": "python",
   "nbconvert_exporter": "python",
   "pygments_lexer": "ipython3",
   "version": "3.9.10"
  }
 },
 "nbformat": 4,
 "nbformat_minor": 5
}
