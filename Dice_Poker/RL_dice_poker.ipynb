{
 "cells": [
  {
   "cell_type": "code",
   "execution_count": 2,
   "id": "0c7a9801-c6b5-4cb7-aef9-b695c385a9a0",
   "metadata": {},
   "outputs": [],
   "source": [
    "import gym\n",
    "import gym_anytrading\n",
    "from gym import spaces\n",
    "from gym.utils import seeding\n",
    "import numpy as np\n",
    "from enum import Enum\n",
    "import random\n",
    "\n",
    "import tensorboard\n",
    "\n",
    "from stable_baselines3.common.vec_env import DummyVecEnv\n",
    "from stable_baselines3.common.evaluation import evaluate_policy\n",
    "from stable_baselines3 import A2C\n",
    "from stable_baselines3.common.torch_layers import BaseFeaturesExtractor\n",
    "\n",
    "import pandas as pd\n",
    "from matplotlib import pyplot as plt\n",
    "from typing import Callable, Dict, List, Optional, Tuple, Type, Union\n",
    "\n",
    "import torch as th\n",
    "from torch import nn\n",
    "\n",
    "from stable_baselines3 import PPO\n",
    "from stable_baselines3.common.policies import ActorCriticPolicy\n",
    "from stable_baselines3 import DQN\n",
    "from stable_baselines3.common.callbacks import EvalCallback, StopTrainingOnRewardThreshold\n",
    "\n",
    "from stable_baselines3.common.callbacks import EvalCallback, StopTrainingOnRewardThreshold\n",
    "\n",
    "import os\n",
    "\n",
    "import torch"
   ]
  },
  {
   "cell_type": "code",
   "execution_count": 53,
   "id": "e9aa0114-bd40-439d-9e71-f9da7104cb9e",
   "metadata": {},
   "outputs": [],
   "source": [
    "class Actions(Enum):\n",
    "    Bet = 0\n",
    "    Check = 1"
   ]
  },
  {
   "cell_type": "code",
   "execution_count": 46,
   "id": "23e73f06-1601-44f9-9fd5-b0e890de3b12",
   "metadata": {},
   "outputs": [],
   "source": [
    "class Dice:\n",
    "    def __init__(self):\n",
    "        self.value = None\n",
    "        self.is_visible = False\n",
    "\n",
    "    def roll(self):\n",
    "        self.value = random.randint(1,6)\n",
    "\n",
    "    def show_dice(self):\n",
    "        self.is_visible = True"
   ]
  },
  {
   "cell_type": "code",
   "execution_count": 104,
   "id": "68bf7a33-2d00-4e5d-9b85-ce1536a96b19",
   "metadata": {},
   "outputs": [],
   "source": [
    "class Player:\n",
    "    def __init__(self,number,number_of_dices):\n",
    "        self.dice_list = []\n",
    "        self.number = number\n",
    "        for i in range(number_of_dices):\n",
    "            dice = Dice()\n",
    "            dice.roll()\n",
    "            self.dice_list.append(dice)\n",
    "\n",
    "\n",
    "    def get_action(self):\n",
    "        action = int(input(\"Action:\"))\n",
    "        print(action)\n",
    "        if action == 0:\n",
    "            number_of_dices = int(input(\"how many dices\"))\n",
    "            values = int(input(\"values\"))\n",
    "            return Actions(0), number_of_dices, values\n",
    "        else:\n",
    "            return Actions(1), None, None\n",
    "    def bet(self,number_bet,value_bet):\n",
    "        return Actions(1), (number_bet,value_bet)\n",
    "        \n",
    "    def get_values(self):\n",
    "        l = [] \n",
    "        for dice in self.dice_list:\n",
    "            print(dice)\n",
    "            l.append(dice.value)\n",
    "        return l"
   ]
  },
  {
   "cell_type": "code",
   "execution_count": 112,
   "id": "80aff0bf-f75d-4887-a5ae-179bd3708ed0",
   "metadata": {},
   "outputs": [],
   "source": [
    "class Game:\n",
    "    def __init__(self,num_players, num_dice_each):\n",
    "        self.num_players = num_players\n",
    "        self.player_list = []\n",
    "        for i in range(num_players):\n",
    "            player_list.append(Player(i,num_dice_each))\n",
    "        self.round = 0\n",
    "        current_bet = (0,0)\n",
    "\n",
    "    def check(self):\n",
    "        values_list = []\n",
    "        for player in self.player_list:\n",
    "            values_list.append()\n",
    "    def step(self):\n",
    "        action, num_dices, values = self.player_list[round%num_players].get_action()\n",
    "        if action == Actions(0):\n",
    "            self.current_bet = (num_dices,values)\n",
    "            round += 1\n",
    "        else:\n",
    "            check()\n"
   ]
  },
  {
   "cell_type": "code",
   "execution_count": 106,
   "id": "9785c743-038d-44d8-8b88-e4cf93d5f492",
   "metadata": {},
   "outputs": [],
   "source": [
    "player = Player(2,3)"
   ]
  },
  {
   "cell_type": "code",
   "execution_count": 107,
   "id": "074ca949-708e-4a78-92ac-ad6684334676",
   "metadata": {},
   "outputs": [
    {
     "name": "stdout",
     "output_type": "stream",
     "text": [
      "<__main__.Dice object at 0x0000028D3CF82280>\n",
      "<__main__.Dice object at 0x0000028D3CF82C40>\n",
      "<__main__.Dice object at 0x0000028D3CF82A30>\n"
     ]
    },
    {
     "data": {
      "text/plain": [
       "[4, 2, 3]"
      ]
     },
     "execution_count": 107,
     "metadata": {},
     "output_type": "execute_result"
    }
   ],
   "source": [
    "player.get_values()"
   ]
  },
  {
   "cell_type": "code",
   "execution_count": 96,
   "id": "0d896e7a-9c0e-417d-aec0-a085c4764f2c",
   "metadata": {},
   "outputs": [
    {
     "ename": "TypeError",
     "evalue": "bet() missing 2 required positional arguments: 'number_bet' and 'value_bet'",
     "output_type": "error",
     "traceback": [
      "\u001b[1;31m---------------------------------------------------------------------------\u001b[0m",
      "\u001b[1;31mTypeError\u001b[0m                                 Traceback (most recent call last)",
      "Cell \u001b[1;32mIn[96], line 1\u001b[0m\n\u001b[1;32m----> 1\u001b[0m \u001b[43mplayer\u001b[49m\u001b[38;5;241;43m.\u001b[39;49m\u001b[43mbet\u001b[49m\u001b[43m(\u001b[49m\u001b[43m)\u001b[49m\n",
      "\u001b[1;31mTypeError\u001b[0m: bet() missing 2 required positional arguments: 'number_bet' and 'value_bet'"
     ]
    }
   ],
   "source": [
    "player.bet()"
   ]
  },
  {
   "cell_type": "code",
   "execution_count": 113,
   "id": "a9350f55-e8d4-4b64-b285-0ecbf1ce62c5",
   "metadata": {},
   "outputs": [
    {
     "name": "stdin",
     "output_type": "stream",
     "text": [
      "Action: 1\n"
     ]
    },
    {
     "name": "stdout",
     "output_type": "stream",
     "text": [
      "1\n"
     ]
    }
   ],
   "source": [
    "action, n, v = player.get_action()"
   ]
  },
  {
   "cell_type": "code",
   "execution_count": 114,
   "id": "79839d75-2507-4ff6-b45e-8f905992ffc5",
   "metadata": {},
   "outputs": [],
   "source": [
    "n"
   ]
  },
  {
   "cell_type": "code",
   "execution_count": 115,
   "id": "6cfde498-ed64-482c-bc78-1bcab48b4241",
   "metadata": {},
   "outputs": [],
   "source": [
    "v"
   ]
  },
  {
   "cell_type": "code",
   "execution_count": 122,
   "id": "d27001f4-4939-46e3-a64c-dce09065c8a0",
   "metadata": {},
   "outputs": [
    {
     "ename": "AttributeError",
     "evalue": "'list' object has no attribute 'union'",
     "output_type": "error",
     "traceback": [
      "\u001b[1;31m---------------------------------------------------------------------------\u001b[0m",
      "\u001b[1;31mAttributeError\u001b[0m                            Traceback (most recent call last)",
      "Cell \u001b[1;32mIn[122], line 3\u001b[0m\n\u001b[0;32m      1\u001b[0m \u001b[38;5;28mlist\u001b[39m \u001b[38;5;241m=\u001b[39m [\u001b[38;5;124m'\u001b[39m\u001b[38;5;124ma\u001b[39m\u001b[38;5;124m'\u001b[39m,\u001b[38;5;124m'\u001b[39m\u001b[38;5;124mb\u001b[39m\u001b[38;5;124m'\u001b[39m,\u001b[38;5;124m'\u001b[39m\u001b[38;5;124mc\u001b[39m\u001b[38;5;124m'\u001b[39m]\n\u001b[0;32m      2\u001b[0m list_2 \u001b[38;5;241m=\u001b[39m [\u001b[38;5;124m'\u001b[39m\u001b[38;5;124mtego\u001b[39m\u001b[38;5;124m'\u001b[39m,\u001b[38;5;124m'\u001b[39m\u001b[38;5;124mtamtego\u001b[39m\u001b[38;5;124m'\u001b[39m,\u001b[38;5;124m'\u001b[39m\u001b[38;5;124mprzez_tego\u001b[39m\u001b[38;5;124m'\u001b[39m]\n\u001b[1;32m----> 3\u001b[0m \u001b[38;5;28;43mlist\u001b[39;49m\u001b[38;5;241;43m.\u001b[39;49m\u001b[43munion\u001b[49m(list_2)\n",
      "\u001b[1;31mAttributeError\u001b[0m: 'list' object has no attribute 'union'"
     ]
    }
   ],
   "source": [
    "list = ['a','b','c']\n",
    "list_2 = ['tego','tamtego','przez_tego']\n",
    "list.union(list_2)"
   ]
  },
  {
   "cell_type": "code",
   "execution_count": 119,
   "id": "9e6a2164-3b69-4761-9a00-36cd39737f84",
   "metadata": {},
   "outputs": [
    {
     "data": {
      "text/plain": [
       "['a', 'b', 'c', ['tego', 'tamtego', 'przez_tego']]"
      ]
     },
     "execution_count": 119,
     "metadata": {},
     "output_type": "execute_result"
    }
   ],
   "source": []
  },
  {
   "cell_type": "code",
   "execution_count": null,
   "id": "29fe6b4e-3fc8-4a7f-b5ba-e837784b3e77",
   "metadata": {},
   "outputs": [],
   "source": []
  }
 ],
 "metadata": {
  "kernelspec": {
   "display_name": "Python 3 (ipykernel)",
   "language": "python",
   "name": "python3"
  },
  "language_info": {
   "codemirror_mode": {
    "name": "ipython",
    "version": 3
   },
   "file_extension": ".py",
   "mimetype": "text/x-python",
   "name": "python",
   "nbconvert_exporter": "python",
   "pygments_lexer": "ipython3",
   "version": "3.9.13"
  }
 },
 "nbformat": 4,
 "nbformat_minor": 5
}
